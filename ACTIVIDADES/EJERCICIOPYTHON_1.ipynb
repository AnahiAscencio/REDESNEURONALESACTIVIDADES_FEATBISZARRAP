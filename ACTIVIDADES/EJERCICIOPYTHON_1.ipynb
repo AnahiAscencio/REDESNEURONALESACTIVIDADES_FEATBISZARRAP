{
  "nbformat": 4,
  "nbformat_minor": 0,
  "metadata": {
    "colab": {
      "provenance": []
    },
    "kernelspec": {
      "name": "python3",
      "display_name": "Python 3"
    },
    "language_info": {
      "name": "python"
    }
  },
  "cells": [
    {
      "cell_type": "code",
      "execution_count": 23,
      "metadata": {
        "colab": {
          "base_uri": "https://localhost:8080/"
        },
        "id": "iJwRqVrHIo-t",
        "outputId": "e288513b-21ec-4d4e-cda9-522cdcd6a987"
      },
      "outputs": [
        {
          "output_type": "stream",
          "name": "stdout",
          "text": [
            "¿Cuál es tu nombre?: ANA\n",
            "Hola ANA\n"
          ]
        }
      ],
      "source": [
        "#ACTIVIDAD 2 EJERCICIOS DE PYTHON   JOSELYN ANAHI ASCENCIO VALENCIANO  2035453   N1\n",
        "#Ejercicio 1. Desarrollo de una función que le pida al usuario por su nombre y que lo salude con su nombre, excepto si se llama “Ana”, “Juan”, y “Pedro”.\n",
        "message = input(\"¿Cuál es tu nombre?: \")\n",
        "saludo= (\"Hola\")\n",
        "if message == \"Ana\" or message == \"Juan\" or message ==\"Pedro\":\n",
        "  print(\"Nombre incorrecto\")\n",
        "else:  \n",
        "  print(saludo,message)\n"
      ]
    },
    {
      "cell_type": "code",
      "source": [
        "#Ejercicio 2.Desarrollo de una función que realiza una lista de elementos y que revierta el orden de la lista e imprima.\n",
        "def my_function(lista):\n",
        "  print(Lista[-1])\n",
        "  print(list(reversed(Lista)))\n",
        "Lista= [\"Casa\", \"Casero\", \"Caseta\", \"Casada\", \"Casino\", \"Caserío\"]\n",
        "my_function(Lista)\n",
        "     "
      ],
      "metadata": {
        "colab": {
          "base_uri": "https://localhost:8080/"
        },
        "id": "wBYQC89aNyTI",
        "outputId": "856dad10-d0de-4fb6-c48a-28e8bff8f7aa"
      },
      "execution_count": 24,
      "outputs": [
        {
          "output_type": "stream",
          "name": "stdout",
          "text": [
            "Caserío\n",
            "['Caserío', 'Casino', 'Casada', 'Caseta', 'Casero', 'Casa']\n"
          ]
        }
      ]
    },
    {
      "cell_type": "code",
      "source": [
        "#Ejercicio 3. Desarrollo de un algoritmo que genere una serie Fibonnaci de ´N´ números los genere y los imprima.\n",
        "def fib(n):\n",
        "    if n < 2:\n",
        "        return n\n",
        "    else:\n",
        "        # fn = fn-1 + fn-2\n",
        "        return fib(n-1) + fib(n-2)\n",
        "\n",
        "for x in range(18):\n",
        "    print(fib(x))\n",
        "  "
      ],
      "metadata": {
        "colab": {
          "base_uri": "https://localhost:8080/"
        },
        "id": "VXnZzQYsYyBp",
        "outputId": "c85849b9-946b-41de-9856-fd1944bf2da9"
      },
      "execution_count": 21,
      "outputs": [
        {
          "output_type": "stream",
          "name": "stdout",
          "text": [
            "0\n",
            "1\n",
            "1\n",
            "2\n",
            "3\n",
            "5\n",
            "8\n",
            "13\n",
            "21\n",
            "34\n",
            "55\n",
            "89\n",
            "144\n",
            "233\n",
            "377\n",
            "610\n",
            "987\n",
            "1597\n"
          ]
        }
      ]
    },
    {
      "cell_type": "code",
      "source": [],
      "metadata": {
        "id": "fBOpNFUIZ_uy"
      },
      "execution_count": null,
      "outputs": []
    }
  ]
}