{
  "nbformat": 4,
  "nbformat_minor": 0,
  "metadata": {
    "colab": {
      "provenance": []
    },
    "kernelspec": {
      "name": "python3",
      "display_name": "Python 3"
    },
    "language_info": {
      "name": "python"
    }
  },
  "cells": [
    {
      "cell_type": "code",
      "source": [
        "#PIA_ENTRENAMIENTO DE UNA RED NEURONAL CONVOLSIONAL      EQUIPO 4      N1\n",
        "#Carlos Emilio Orozco Ibarra\t          1905750\n",
        "#Jonathan Raziel  Treviño Cruz\t        1949173\n",
        "#Joselyn Anahí Ascencio Valenciano    \t2035453\n",
        "#Josue Miguel Pérez\t                    1966557\n",
        "#Yaros Miroslava Escobedo Hernández   \t1955398\n",
        "#EJERCICIO Entrenar una red neuronal convolucional en un cmjunto de datos de imagnes de frutas en este caso."
      ],
      "metadata": {
        "id": "ZbVtmH7uPTvc"
      },
      "execution_count": null,
      "outputs": []
    },
    {
      "cell_type": "code",
      "source": [
        "!unzip archive.zip\n"
      ],
      "metadata": {
        "colab": {
          "base_uri": "https://localhost:8080/"
        },
        "id": "ISwnL73WL9Ca",
        "outputId": "7f674285-eb5b-4955-df05-52df15fd125b"
      },
      "execution_count": null,
      "outputs": [
        {
          "output_type": "stream",
          "name": "stdout",
          "text": [
            "unzip:  cannot find or open archive.zip, archive.zip.zip or archive.zip.ZIP.\n"
          ]
        }
      ]
    },
    {
      "cell_type": "code",
      "source": [
        "import pandas as pd\n",
        "import numpy as np\n",
        "import matplotlib.pyplot as plt\n",
        "import seaborn as sns\n",
        "from sklearn.preprocessing import MinMaxScaler\n",
        "from sklearn.model_selection import train_test_split\n",
        "import tensorflow as tf\n",
        "from keras.preprocessing.image import ImageDataGenerator\n",
        "from keras.models import Sequential\n",
        "from keras.layers import Conv2D, MaxPooling2D, Flatten, Dense, Dropout, BatchNormalization\n",
        "import warnings\n",
        "warnings.filterwarnings(\"ignore\")\n",
        "import os\n",
        "from matplotlib.image import imread\n",
        "import random\n",
        "import matplotlib.image as mpimg"
      ],
      "metadata": {
        "id": "i_c7SwvTMa8L"
      },
      "execution_count": null,
      "outputs": []
    },
    {
      "cell_type": "code",
      "source": [
        "tf.random.set_seed(5)"
      ],
      "metadata": {
        "id": "vkXJZbrOMsqu"
      },
      "execution_count": null,
      "outputs": []
    },
    {
      "cell_type": "code",
      "source": [
        "datagen = ImageDataGenerator(rotation_range=10,\n",
        "            rescale = 1./255,\n",
        "            width_shift_range=0.1,\n",
        "            height_shift_range=0.1,\n",
        "            horizontal_flip=True,\n",
        "            vertical_flip=False,\n",
        "            zoom_range=0.1,\n",
        "            shear_range=0.1,\n",
        "            brightness_range=[0.8, 1.2],\n",
        "            fill_mode='nearest',\n",
        "            validation_split=0.2  # set validation split to 20% \n",
        "            )"
      ],
      "metadata": {
        "id": "w9bZkxU7Mv6R"
      },
      "execution_count": null,
      "outputs": []
    },
    {
      "cell_type": "code",
      "source": [],
      "metadata": {
        "id": "4wca49SSPSSo"
      },
      "execution_count": null,
      "outputs": []
    },
    {
      "cell_type": "code",
      "source": [
        "trainimagedata = datagen.flow_from_directory(\"/content/images\",\n",
        "                                              batch_size = 32,\n",
        "                                              class_mode = 'categorical',\n",
        "                                              target_size=(64,64),\n",
        "                                              subset = 'training'\n",
        "                                            )\n",
        "\n",
        "testimagedata = datagen.flow_from_directory(\"/content/images\",\n",
        "                                              batch_size = 32,\n",
        "                                              class_mode = 'categorical',\n",
        "                                              target_size=(64,64),\n",
        "                                              subset = 'validation'\n",
        "                                            )"
      ],
      "metadata": {
        "id": "E3IJC-_5M-HW"
      },
      "execution_count": null,
      "outputs": []
    },
    {
      "cell_type": "code",
      "source": [
        "trainimagedata.classes"
      ],
      "metadata": {
        "id": "gRFSlbJDNJ91"
      },
      "execution_count": null,
      "outputs": []
    },
    {
      "cell_type": "code",
      "source": [
        "trainimagedata.class_indices"
      ],
      "metadata": {
        "id": "fy0sI3eXNRUx"
      },
      "execution_count": null,
      "outputs": []
    },
    {
      "cell_type": "code",
      "source": [
        "# Print Each sample of all Classes\n",
        "# Directory path where the images are located\n",
        "directory_path = '/content/images'\n",
        "\n",
        "# List of class names\n",
        "class_names = ['apple fruit', 'banana fruit', 'cherry fruit', 'chickoo fruit', 'grapes fruit', 'kiwi fruit', 'mango fruit', 'orange fruit', 'strawberry fruit']\n",
        "\n",
        "# Create a figure to display the images\n",
        "fig = plt.figure(figsize=(12, 8))\n",
        "\n",
        "# Iterate over each class\n",
        "for i, class_name in enumerate(class_names):\n",
        "    # Get a list of image files in the class directory\n",
        "    class_directory = os.path.join(directory_path, class_name)\n",
        "    image_files = os.listdir(class_directory)\n",
        "\n",
        "    # Select a random image file from the class\n",
        "    random_image = random.choice(image_files)\n",
        "    image_path = os.path.join(class_directory, random_image)\n",
        "\n",
        "    # Load and display the image\n",
        "    ax = fig.add_subplot(3, 3, i+1)\n",
        "    img = mpimg.imread(image_path)\n",
        "    ax.imshow(img)\n",
        "    ax.set_title(class_name)\n",
        "    ax.axis('off')\n",
        "\n",
        "# Adjust the layout and display the figure\n",
        "plt.tight_layout()\n",
        "plt.show()"
      ],
      "metadata": {
        "id": "nLVg_8VyNSKJ"
      },
      "execution_count": null,
      "outputs": []
    },
    {
      "cell_type": "code",
      "source": [
        "input_shape = trainimagedata.image_shape"
      ],
      "metadata": {
        "id": "US1Cxhn2NYrA"
      },
      "execution_count": null,
      "outputs": []
    },
    {
      "cell_type": "code",
      "source": [
        "# Model Architecture\n",
        "model = tf.keras.models.Sequential()\n",
        "\n",
        "model.add(tf.keras.layers.Conv2D(64,(3,3), input_shape = input_shape,activation='relu',padding='same'))\n",
        "model.add(tf.keras.layers.MaxPool2D(2,2))\n",
        "\n",
        "model.add(tf.keras.layers.Conv2D(32,(3,3),activation='relu'))\n",
        "model.add(tf.keras.layers.MaxPool2D(2,2))\n",
        "\n",
        "model.add(tf.keras.layers.Flatten())\n",
        "\n",
        "model.add(Dense(128,activation = 'relu'))\n",
        "model.add(Dropout(0.25))\n",
        "\n",
        "model.add(Dense(64,activation = 'relu'))\n",
        "model.add(Dropout(0.25))\n",
        "\n",
        "model.add(Dense(9,activation = 'softmax'))"
      ],
      "metadata": {
        "id": "-phF1fMgNYxx"
      },
      "execution_count": null,
      "outputs": []
    },
    {
      "cell_type": "code",
      "source": [
        "# Set the Hyperparameter to Adam optimizer\n",
        "from tensorflow.keras.optimizers import Adam\n",
        "optimizer = Adam(lr=0.001,beta_1=0.9,beta_2 = 0.999, epsilon=1e-8)"
      ],
      "metadata": {
        "id": "rIp19DWsNY8m"
      },
      "execution_count": null,
      "outputs": []
    },
    {
      "cell_type": "code",
      "source": [
        "# Compile the model\n",
        "model.compile(optimizer = optimizer,\n",
        "              loss = 'categorical_crossentropy',\n",
        "              metrics = ['accuracy'])"
      ],
      "metadata": {
        "id": "2-wsd2hoNkLh"
      },
      "execution_count": null,
      "outputs": []
    },
    {
      "cell_type": "code",
      "source": [
        "from keras.callbacks import EarlyStopping\n",
        "early_stop = EarlyStopping(monitor = 'val_loss', patience =15)"
      ],
      "metadata": {
        "id": "mEB6XCCjNkQR"
      },
      "execution_count": null,
      "outputs": []
    },
    {
      "cell_type": "code",
      "source": [
        "# Fitting the model\n",
        "mdl_history = model.fit(trainimagedata,\n",
        "                          validation_data = testimagedata,\n",
        "                          epochs=35,\n",
        "                          batch_size=16,\n",
        "                          callbacks=[early_stop])"
      ],
      "metadata": {
        "id": "zqs5jmvoNkUt"
      },
      "execution_count": null,
      "outputs": []
    },
    {
      "cell_type": "code",
      "source": [
        "model.summary()"
      ],
      "metadata": {
        "id": "KqFR3WvRNuhM"
      },
      "execution_count": null,
      "outputs": []
    },
    {
      "cell_type": "code",
      "source": [
        "# Let's visualize training and testing accuracy by graph\n",
        "plt.plot(mdl_history.history['accuracy'])\n",
        "plt.plot(mdl_history.history['val_accuracy'])\n",
        "plt.title('Model Accuracy')\n",
        "plt.ylabel('Accuracy')\n",
        "plt.xlabel('Epoch')\n",
        "plt.legend(['Train', 'Validation'], loc='upper left')\n",
        "plt.show()"
      ],
      "metadata": {
        "id": "ka2_w3idNutU"
      },
      "execution_count": null,
      "outputs": []
    },
    {
      "cell_type": "code",
      "source": [
        "# Model prediction\n",
        "y_preds = model.predict(testimagedata)"
      ],
      "metadata": {
        "id": "HgKLL7k0Nu3e"
      },
      "execution_count": null,
      "outputs": []
    },
    {
      "cell_type": "code",
      "source": [
        "# Model Evaluation With metrcics\n",
        "y_eva = model.evaluate(testimagedata)"
      ],
      "metadata": {
        "id": "pmsO_Z4HN4p7"
      },
      "execution_count": null,
      "outputs": []
    },
    {
      "cell_type": "code",
      "source": [
        "# Let's check our model predict kiwi fruit Class or not (Actual kiwi fruit class is 5)\n",
        "from tensorflow.keras.preprocessing import image\n",
        "new_image = image.load_img(\"/content/images/kiwi fruit/Image_11.jpg\",target_size = (64,64))\n",
        "image_array = image.img_to_array(new_image)\n",
        "image_final = np.expand_dims(image_array ,axis=0)\n",
        "image_final /= 255."
      ],
      "metadata": {
        "id": "TQ9VWUZbN4um"
      },
      "execution_count": null,
      "outputs": []
    },
    {
      "cell_type": "code",
      "source": [
        "img_pred = model.predict(image_final)"
      ],
      "metadata": {
        "id": "azdmT5zLN4y2"
      },
      "execution_count": null,
      "outputs": []
    },
    {
      "cell_type": "code",
      "source": [
        "sample_pred = np.argmax(img_pred)"
      ],
      "metadata": {
        "id": "qirlJXOSOE8F"
      },
      "execution_count": null,
      "outputs": []
    },
    {
      "cell_type": "code",
      "source": [
        "sample_pred"
      ],
      "metadata": {
        "id": "vXB1yjcFOFJd"
      },
      "execution_count": null,
      "outputs": []
    }
  ]
}